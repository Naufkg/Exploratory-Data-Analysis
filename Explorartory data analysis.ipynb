{
 "cells": [
  {
   "cell_type": "markdown",
   "id": "f8996e78-bf1b-4c9e-9fa6-f699b5a6e46b",
   "metadata": {},
   "source": [
    "<h1 align=\"center\"><font color='green'>Exploratory Data Analysis (EDA)</font></h1>"
   ]
  },
  {
   "cell_type": "markdown",
   "id": "2903f42b-fa77-4a9f-865f-bf31cae65bde",
   "metadata": {},
   "source": [
    "Providing a dataset of employees working in ABC company. \n",
    "It consists of 458 rows and 9 columns. The company needs the detailed report and explanation of their employees in each team"
   ]
  },
  {
   "cell_type": "markdown",
   "id": "f8f45e83-5b02-496d-882b-c0175d931b5a",
   "metadata": {},
   "source": [
    "#### Importing all required Modules"
   ]
  },
  {
   "cell_type": "code",
   "execution_count": 5,
   "id": "91610cac-238c-4af8-8d9e-9e8fc739d288",
   "metadata": {},
   "outputs": [],
   "source": [
    "import numpy as np\n",
    "import pandas as pd\n",
    "import matplotlib.pyplot as plt\n",
    "import seaborn as sns"
   ]
  },
  {
   "cell_type": "markdown",
   "id": "d3b4e979-3ba0-4472-b752-bae9c9f34b03",
   "metadata": {},
   "source": [
    "#### Creating a data frame from a csv file using pd.read_csv(\"filename.csv\")"
   ]
  },
  {
   "cell_type": "code",
   "execution_count": 6,
   "id": "47c327bb-0915-4f84-b239-99935b25f616",
   "metadata": {},
   "outputs": [
    {
     "data": {
      "text/html": [
       "<div>\n",
       "<style scoped>\n",
       "    .dataframe tbody tr th:only-of-type {\n",
       "        vertical-align: middle;\n",
       "    }\n",
       "\n",
       "    .dataframe tbody tr th {\n",
       "        vertical-align: top;\n",
       "    }\n",
       "\n",
       "    .dataframe thead th {\n",
       "        text-align: right;\n",
       "    }\n",
       "</style>\n",
       "<table border=\"1\" class=\"dataframe\">\n",
       "  <thead>\n",
       "    <tr style=\"text-align: right;\">\n",
       "      <th></th>\n",
       "      <th>Name</th>\n",
       "      <th>Team</th>\n",
       "      <th>Number</th>\n",
       "      <th>Position</th>\n",
       "      <th>Age</th>\n",
       "      <th>Height</th>\n",
       "      <th>Weight</th>\n",
       "      <th>College</th>\n",
       "      <th>Salary</th>\n",
       "    </tr>\n",
       "  </thead>\n",
       "  <tbody>\n",
       "    <tr>\n",
       "      <th>0</th>\n",
       "      <td>Avery Bradley</td>\n",
       "      <td>Boston Celtics</td>\n",
       "      <td>0</td>\n",
       "      <td>PG</td>\n",
       "      <td>25</td>\n",
       "      <td>06-Feb</td>\n",
       "      <td>180</td>\n",
       "      <td>Texas</td>\n",
       "      <td>7730337.0</td>\n",
       "    </tr>\n",
       "    <tr>\n",
       "      <th>1</th>\n",
       "      <td>Jae Crowder</td>\n",
       "      <td>Boston Celtics</td>\n",
       "      <td>99</td>\n",
       "      <td>SF</td>\n",
       "      <td>25</td>\n",
       "      <td>06-Jun</td>\n",
       "      <td>235</td>\n",
       "      <td>Marquette</td>\n",
       "      <td>6796117.0</td>\n",
       "    </tr>\n",
       "    <tr>\n",
       "      <th>2</th>\n",
       "      <td>John Holland</td>\n",
       "      <td>Boston Celtics</td>\n",
       "      <td>30</td>\n",
       "      <td>SG</td>\n",
       "      <td>27</td>\n",
       "      <td>06-May</td>\n",
       "      <td>205</td>\n",
       "      <td>Boston University</td>\n",
       "      <td>NaN</td>\n",
       "    </tr>\n",
       "    <tr>\n",
       "      <th>3</th>\n",
       "      <td>R.J. Hunter</td>\n",
       "      <td>Boston Celtics</td>\n",
       "      <td>28</td>\n",
       "      <td>SG</td>\n",
       "      <td>22</td>\n",
       "      <td>06-May</td>\n",
       "      <td>185</td>\n",
       "      <td>Georgia State</td>\n",
       "      <td>1148640.0</td>\n",
       "    </tr>\n",
       "    <tr>\n",
       "      <th>4</th>\n",
       "      <td>Jonas Jerebko</td>\n",
       "      <td>Boston Celtics</td>\n",
       "      <td>8</td>\n",
       "      <td>PF</td>\n",
       "      <td>29</td>\n",
       "      <td>06-Oct</td>\n",
       "      <td>231</td>\n",
       "      <td>NaN</td>\n",
       "      <td>5000000.0</td>\n",
       "    </tr>\n",
       "    <tr>\n",
       "      <th>...</th>\n",
       "      <td>...</td>\n",
       "      <td>...</td>\n",
       "      <td>...</td>\n",
       "      <td>...</td>\n",
       "      <td>...</td>\n",
       "      <td>...</td>\n",
       "      <td>...</td>\n",
       "      <td>...</td>\n",
       "      <td>...</td>\n",
       "    </tr>\n",
       "    <tr>\n",
       "      <th>453</th>\n",
       "      <td>Shelvin Mack</td>\n",
       "      <td>Utah Jazz</td>\n",
       "      <td>8</td>\n",
       "      <td>PG</td>\n",
       "      <td>26</td>\n",
       "      <td>06-Mar</td>\n",
       "      <td>203</td>\n",
       "      <td>Butler</td>\n",
       "      <td>2433333.0</td>\n",
       "    </tr>\n",
       "    <tr>\n",
       "      <th>454</th>\n",
       "      <td>Raul Neto</td>\n",
       "      <td>Utah Jazz</td>\n",
       "      <td>25</td>\n",
       "      <td>PG</td>\n",
       "      <td>24</td>\n",
       "      <td>06-Jan</td>\n",
       "      <td>179</td>\n",
       "      <td>NaN</td>\n",
       "      <td>900000.0</td>\n",
       "    </tr>\n",
       "    <tr>\n",
       "      <th>455</th>\n",
       "      <td>Tibor Pleiss</td>\n",
       "      <td>Utah Jazz</td>\n",
       "      <td>21</td>\n",
       "      <td>C</td>\n",
       "      <td>26</td>\n",
       "      <td>07-Mar</td>\n",
       "      <td>256</td>\n",
       "      <td>NaN</td>\n",
       "      <td>2900000.0</td>\n",
       "    </tr>\n",
       "    <tr>\n",
       "      <th>456</th>\n",
       "      <td>Jeff Withey</td>\n",
       "      <td>Utah Jazz</td>\n",
       "      <td>24</td>\n",
       "      <td>C</td>\n",
       "      <td>26</td>\n",
       "      <td>7-0</td>\n",
       "      <td>231</td>\n",
       "      <td>Kansas</td>\n",
       "      <td>947276.0</td>\n",
       "    </tr>\n",
       "    <tr>\n",
       "      <th>457</th>\n",
       "      <td>Priyanka</td>\n",
       "      <td>Utah Jazz</td>\n",
       "      <td>34</td>\n",
       "      <td>C</td>\n",
       "      <td>25</td>\n",
       "      <td>07-Mar</td>\n",
       "      <td>231</td>\n",
       "      <td>Kansas</td>\n",
       "      <td>947276.0</td>\n",
       "    </tr>\n",
       "  </tbody>\n",
       "</table>\n",
       "<p>458 rows × 9 columns</p>\n",
       "</div>"
      ],
      "text/plain": [
       "              Name            Team  Number Position  Age  Height  Weight  \\\n",
       "0    Avery Bradley  Boston Celtics       0       PG   25  06-Feb     180   \n",
       "1      Jae Crowder  Boston Celtics      99       SF   25  06-Jun     235   \n",
       "2     John Holland  Boston Celtics      30       SG   27  06-May     205   \n",
       "3      R.J. Hunter  Boston Celtics      28       SG   22  06-May     185   \n",
       "4    Jonas Jerebko  Boston Celtics       8       PF   29  06-Oct     231   \n",
       "..             ...             ...     ...      ...  ...     ...     ...   \n",
       "453   Shelvin Mack       Utah Jazz       8       PG   26  06-Mar     203   \n",
       "454      Raul Neto       Utah Jazz      25       PG   24  06-Jan     179   \n",
       "455   Tibor Pleiss       Utah Jazz      21        C   26  07-Mar     256   \n",
       "456    Jeff Withey       Utah Jazz      24        C   26     7-0     231   \n",
       "457       Priyanka       Utah Jazz      34        C   25  07-Mar     231   \n",
       "\n",
       "               College     Salary  \n",
       "0                Texas  7730337.0  \n",
       "1            Marquette  6796117.0  \n",
       "2    Boston University        NaN  \n",
       "3        Georgia State  1148640.0  \n",
       "4                  NaN  5000000.0  \n",
       "..                 ...        ...  \n",
       "453             Butler  2433333.0  \n",
       "454                NaN   900000.0  \n",
       "455                NaN  2900000.0  \n",
       "456             Kansas   947276.0  \n",
       "457             Kansas   947276.0  \n",
       "\n",
       "[458 rows x 9 columns]"
      ]
     },
     "execution_count": 6,
     "metadata": {},
     "output_type": "execute_result"
    }
   ],
   "source": [
    "df=pd.read_csv('myexcel - myexcel.csv')\n",
    "df"
   ]
  },
  {
   "cell_type": "markdown",
   "id": "e68b3ae7-ab89-490f-a4d0-ccc3f37f2007",
   "metadata": {},
   "source": [
    "<h2 align=\"center\"> <font color='orange'>Data Preprocessing</font></h2>"
   ]
  },
  {
   "cell_type": "code",
   "execution_count": 7,
   "id": "410276a4-2c46-4757-9abd-19f4728b01a5",
   "metadata": {},
   "outputs": [
    {
     "name": "stdout",
     "output_type": "stream",
     "text": [
      "<class 'pandas.core.frame.DataFrame'>\n",
      "RangeIndex: 458 entries, 0 to 457\n",
      "Data columns (total 9 columns):\n",
      " #   Column    Non-Null Count  Dtype  \n",
      "---  ------    --------------  -----  \n",
      " 0   Name      458 non-null    object \n",
      " 1   Team      458 non-null    object \n",
      " 2   Number    458 non-null    int64  \n",
      " 3   Position  458 non-null    object \n",
      " 4   Age       458 non-null    int64  \n",
      " 5   Height    458 non-null    object \n",
      " 6   Weight    458 non-null    int64  \n",
      " 7   College   374 non-null    object \n",
      " 8   Salary    447 non-null    float64\n",
      "dtypes: float64(1), int64(3), object(5)\n",
      "memory usage: 32.3+ KB\n"
     ]
    }
   ],
   "source": [
    "df.info()"
   ]
  },
  {
   "cell_type": "code",
   "execution_count": 8,
   "id": "ec5af3c4-8a6b-4a6f-93cf-1d2e1174eef9",
   "metadata": {},
   "outputs": [
    {
     "data": {
      "text/html": [
       "<div>\n",
       "<style scoped>\n",
       "    .dataframe tbody tr th:only-of-type {\n",
       "        vertical-align: middle;\n",
       "    }\n",
       "\n",
       "    .dataframe tbody tr th {\n",
       "        vertical-align: top;\n",
       "    }\n",
       "\n",
       "    .dataframe thead th {\n",
       "        text-align: right;\n",
       "    }\n",
       "</style>\n",
       "<table border=\"1\" class=\"dataframe\">\n",
       "  <thead>\n",
       "    <tr style=\"text-align: right;\">\n",
       "      <th></th>\n",
       "      <th>Number</th>\n",
       "      <th>Age</th>\n",
       "      <th>Weight</th>\n",
       "      <th>Salary</th>\n",
       "    </tr>\n",
       "  </thead>\n",
       "  <tbody>\n",
       "    <tr>\n",
       "      <th>count</th>\n",
       "      <td>458.000000</td>\n",
       "      <td>458.000000</td>\n",
       "      <td>458.000000</td>\n",
       "      <td>4.470000e+02</td>\n",
       "    </tr>\n",
       "    <tr>\n",
       "      <th>mean</th>\n",
       "      <td>17.713974</td>\n",
       "      <td>26.934498</td>\n",
       "      <td>221.543668</td>\n",
       "      <td>4.833970e+06</td>\n",
       "    </tr>\n",
       "    <tr>\n",
       "      <th>std</th>\n",
       "      <td>15.966837</td>\n",
       "      <td>4.400128</td>\n",
       "      <td>26.343200</td>\n",
       "      <td>5.226620e+06</td>\n",
       "    </tr>\n",
       "    <tr>\n",
       "      <th>min</th>\n",
       "      <td>0.000000</td>\n",
       "      <td>19.000000</td>\n",
       "      <td>161.000000</td>\n",
       "      <td>3.088800e+04</td>\n",
       "    </tr>\n",
       "    <tr>\n",
       "      <th>25%</th>\n",
       "      <td>5.000000</td>\n",
       "      <td>24.000000</td>\n",
       "      <td>200.000000</td>\n",
       "      <td>1.025210e+06</td>\n",
       "    </tr>\n",
       "    <tr>\n",
       "      <th>50%</th>\n",
       "      <td>13.000000</td>\n",
       "      <td>26.000000</td>\n",
       "      <td>220.000000</td>\n",
       "      <td>2.836186e+06</td>\n",
       "    </tr>\n",
       "    <tr>\n",
       "      <th>75%</th>\n",
       "      <td>25.000000</td>\n",
       "      <td>30.000000</td>\n",
       "      <td>240.000000</td>\n",
       "      <td>6.500000e+06</td>\n",
       "    </tr>\n",
       "    <tr>\n",
       "      <th>max</th>\n",
       "      <td>99.000000</td>\n",
       "      <td>40.000000</td>\n",
       "      <td>307.000000</td>\n",
       "      <td>2.500000e+07</td>\n",
       "    </tr>\n",
       "  </tbody>\n",
       "</table>\n",
       "</div>"
      ],
      "text/plain": [
       "           Number         Age      Weight        Salary\n",
       "count  458.000000  458.000000  458.000000  4.470000e+02\n",
       "mean    17.713974   26.934498  221.543668  4.833970e+06\n",
       "std     15.966837    4.400128   26.343200  5.226620e+06\n",
       "min      0.000000   19.000000  161.000000  3.088800e+04\n",
       "25%      5.000000   24.000000  200.000000  1.025210e+06\n",
       "50%     13.000000   26.000000  220.000000  2.836186e+06\n",
       "75%     25.000000   30.000000  240.000000  6.500000e+06\n",
       "max     99.000000   40.000000  307.000000  2.500000e+07"
      ]
     },
     "execution_count": 8,
     "metadata": {},
     "output_type": "execute_result"
    }
   ],
   "source": [
    "df.describe()"
   ]
  },
  {
   "cell_type": "code",
   "execution_count": 9,
   "id": "955fb1c6-68ee-494a-8557-e70424ea267d",
   "metadata": {},
   "outputs": [
    {
     "data": {
      "text/plain": [
       "Index(['Name', 'Team', 'Number', 'Position', 'Age', 'Height', 'Weight',\n",
       "       'College', 'Salary'],\n",
       "      dtype='object')"
      ]
     },
     "execution_count": 9,
     "metadata": {},
     "output_type": "execute_result"
    }
   ],
   "source": [
    "df.columns"
   ]
  },
  {
   "cell_type": "code",
   "execution_count": 10,
   "id": "acedbd17-b23a-4b3e-9f08-3a49a056a5e4",
   "metadata": {},
   "outputs": [
    {
     "data": {
      "text/plain": [
       "Name         0\n",
       "Team         0\n",
       "Number       0\n",
       "Position     0\n",
       "Age          0\n",
       "Height       0\n",
       "Weight       0\n",
       "College     84\n",
       "Salary      11\n",
       "dtype: int64"
      ]
     },
     "execution_count": 10,
     "metadata": {},
     "output_type": "execute_result"
    }
   ],
   "source": [
    "df.isnull().sum()"
   ]
  },
  {
   "cell_type": "code",
   "execution_count": 11,
   "id": "48bea6ab-cb6b-4b60-b7b9-3c63f41eb89e",
   "metadata": {},
   "outputs": [
    {
     "data": {
      "text/plain": [
       "<bound method DataFrame.nunique of       Name   Team  Number  Position    Age  Height  Weight  College  Salary\n",
       "0    False  False   False     False  False   False   False    False   False\n",
       "1    False  False   False     False  False   False   False    False   False\n",
       "2    False  False   False     False  False   False   False    False    True\n",
       "3    False  False   False     False  False   False   False    False   False\n",
       "4    False  False   False     False  False   False   False     True   False\n",
       "..     ...    ...     ...       ...    ...     ...     ...      ...     ...\n",
       "453  False  False   False     False  False   False   False    False   False\n",
       "454  False  False   False     False  False   False   False     True   False\n",
       "455  False  False   False     False  False   False   False     True   False\n",
       "456  False  False   False     False  False   False   False    False   False\n",
       "457  False  False   False     False  False   False   False    False   False\n",
       "\n",
       "[458 rows x 9 columns]>"
      ]
     },
     "execution_count": 11,
     "metadata": {},
     "output_type": "execute_result"
    }
   ],
   "source": [
    "df.isnull().nunique"
   ]
  },
  {
   "cell_type": "code",
   "execution_count": 12,
   "id": "3a2d63b6-fef7-4ccb-adfb-585a6cea1047",
   "metadata": {},
   "outputs": [
    {
     "data": {
      "text/plain": [
       "College\n",
       "False    374\n",
       "True      84\n",
       "Name: count, dtype: int64"
      ]
     },
     "execution_count": 12,
     "metadata": {},
     "output_type": "execute_result"
    }
   ],
   "source": [
    "df['College'].isnull().value_counts()"
   ]
  },
  {
   "cell_type": "code",
   "execution_count": 13,
   "id": "74d95ec4-f705-4e37-8cf2-694bdaadf82e",
   "metadata": {},
   "outputs": [
    {
     "data": {
      "text/plain": [
       "Salary\n",
       "False    447\n",
       "True      11\n",
       "Name: count, dtype: int64"
      ]
     },
     "execution_count": 13,
     "metadata": {},
     "output_type": "execute_result"
    }
   ],
   "source": [
    "df['Salary'].isnull().value_counts()"
   ]
  },
  {
   "cell_type": "markdown",
   "id": "6b421939-10c1-4fc6-a639-3411b09006cd",
   "metadata": {},
   "source": [
    "##### Therefore,\n",
    "##### There are in total 84 null values in column 'College' and 11 null values in column 'Salary'."
   ]
  },
  {
   "cell_type": "code",
   "execution_count": 14,
   "id": "ec40281a-8d9c-4270-af68-e2f6e0e03f58",
   "metadata": {},
   "outputs": [
    {
     "data": {
      "text/html": [
       "<div>\n",
       "<style scoped>\n",
       "    .dataframe tbody tr th:only-of-type {\n",
       "        vertical-align: middle;\n",
       "    }\n",
       "\n",
       "    .dataframe tbody tr th {\n",
       "        vertical-align: top;\n",
       "    }\n",
       "\n",
       "    .dataframe thead th {\n",
       "        text-align: right;\n",
       "    }\n",
       "</style>\n",
       "<table border=\"1\" class=\"dataframe\">\n",
       "  <thead>\n",
       "    <tr style=\"text-align: right;\">\n",
       "      <th></th>\n",
       "      <th>Name</th>\n",
       "      <th>Team</th>\n",
       "      <th>Number</th>\n",
       "      <th>Position</th>\n",
       "      <th>Age</th>\n",
       "      <th>Height</th>\n",
       "      <th>Weight</th>\n",
       "      <th>College</th>\n",
       "      <th>Salary</th>\n",
       "    </tr>\n",
       "  </thead>\n",
       "  <tbody>\n",
       "    <tr>\n",
       "      <th>4</th>\n",
       "      <td>Jonas Jerebko</td>\n",
       "      <td>Boston Celtics</td>\n",
       "      <td>8</td>\n",
       "      <td>PF</td>\n",
       "      <td>29</td>\n",
       "      <td>06-Oct</td>\n",
       "      <td>231</td>\n",
       "      <td>NaN</td>\n",
       "      <td>5000000.0</td>\n",
       "    </tr>\n",
       "    <tr>\n",
       "      <th>5</th>\n",
       "      <td>Amir Johnson</td>\n",
       "      <td>Boston Celtics</td>\n",
       "      <td>90</td>\n",
       "      <td>PF</td>\n",
       "      <td>29</td>\n",
       "      <td>06-Sep</td>\n",
       "      <td>240</td>\n",
       "      <td>NaN</td>\n",
       "      <td>12000000.0</td>\n",
       "    </tr>\n",
       "    <tr>\n",
       "      <th>15</th>\n",
       "      <td>Bojan Bogdanovic</td>\n",
       "      <td>Brooklyn Nets</td>\n",
       "      <td>44</td>\n",
       "      <td>SG</td>\n",
       "      <td>27</td>\n",
       "      <td>06-Aug</td>\n",
       "      <td>216</td>\n",
       "      <td>NaN</td>\n",
       "      <td>3425510.0</td>\n",
       "    </tr>\n",
       "    <tr>\n",
       "      <th>20</th>\n",
       "      <td>Sergey Karasev</td>\n",
       "      <td>Brooklyn Nets</td>\n",
       "      <td>10</td>\n",
       "      <td>SG</td>\n",
       "      <td>22</td>\n",
       "      <td>06-Jul</td>\n",
       "      <td>208</td>\n",
       "      <td>NaN</td>\n",
       "      <td>1599840.0</td>\n",
       "    </tr>\n",
       "    <tr>\n",
       "      <th>32</th>\n",
       "      <td>Thanasis Antetokounmpo</td>\n",
       "      <td>New York Knicks</td>\n",
       "      <td>43</td>\n",
       "      <td>SF</td>\n",
       "      <td>23</td>\n",
       "      <td>06-Jul</td>\n",
       "      <td>205</td>\n",
       "      <td>NaN</td>\n",
       "      <td>30888.0</td>\n",
       "    </tr>\n",
       "    <tr>\n",
       "      <th>...</th>\n",
       "      <td>...</td>\n",
       "      <td>...</td>\n",
       "      <td>...</td>\n",
       "      <td>...</td>\n",
       "      <td>...</td>\n",
       "      <td>...</td>\n",
       "      <td>...</td>\n",
       "      <td>...</td>\n",
       "      <td>...</td>\n",
       "    </tr>\n",
       "    <tr>\n",
       "      <th>445</th>\n",
       "      <td>Dante Exum</td>\n",
       "      <td>Utah Jazz</td>\n",
       "      <td>11</td>\n",
       "      <td>PG</td>\n",
       "      <td>20</td>\n",
       "      <td>06-Jun</td>\n",
       "      <td>190</td>\n",
       "      <td>NaN</td>\n",
       "      <td>3777720.0</td>\n",
       "    </tr>\n",
       "    <tr>\n",
       "      <th>447</th>\n",
       "      <td>Rudy Gobert</td>\n",
       "      <td>Utah Jazz</td>\n",
       "      <td>27</td>\n",
       "      <td>C</td>\n",
       "      <td>23</td>\n",
       "      <td>07-Jan</td>\n",
       "      <td>245</td>\n",
       "      <td>NaN</td>\n",
       "      <td>1175880.0</td>\n",
       "    </tr>\n",
       "    <tr>\n",
       "      <th>450</th>\n",
       "      <td>Joe Ingles</td>\n",
       "      <td>Utah Jazz</td>\n",
       "      <td>2</td>\n",
       "      <td>SF</td>\n",
       "      <td>28</td>\n",
       "      <td>06-Aug</td>\n",
       "      <td>226</td>\n",
       "      <td>NaN</td>\n",
       "      <td>2050000.0</td>\n",
       "    </tr>\n",
       "    <tr>\n",
       "      <th>454</th>\n",
       "      <td>Raul Neto</td>\n",
       "      <td>Utah Jazz</td>\n",
       "      <td>25</td>\n",
       "      <td>PG</td>\n",
       "      <td>24</td>\n",
       "      <td>06-Jan</td>\n",
       "      <td>179</td>\n",
       "      <td>NaN</td>\n",
       "      <td>900000.0</td>\n",
       "    </tr>\n",
       "    <tr>\n",
       "      <th>455</th>\n",
       "      <td>Tibor Pleiss</td>\n",
       "      <td>Utah Jazz</td>\n",
       "      <td>21</td>\n",
       "      <td>C</td>\n",
       "      <td>26</td>\n",
       "      <td>07-Mar</td>\n",
       "      <td>256</td>\n",
       "      <td>NaN</td>\n",
       "      <td>2900000.0</td>\n",
       "    </tr>\n",
       "  </tbody>\n",
       "</table>\n",
       "<p>84 rows × 9 columns</p>\n",
       "</div>"
      ],
      "text/plain": [
       "                       Name             Team  Number Position  Age  Height  \\\n",
       "4             Jonas Jerebko   Boston Celtics       8       PF   29  06-Oct   \n",
       "5              Amir Johnson   Boston Celtics      90       PF   29  06-Sep   \n",
       "15         Bojan Bogdanovic    Brooklyn Nets      44       SG   27  06-Aug   \n",
       "20           Sergey Karasev    Brooklyn Nets      10       SG   22  06-Jul   \n",
       "32   Thanasis Antetokounmpo  New York Knicks      43       SF   23  06-Jul   \n",
       "..                      ...              ...     ...      ...  ...     ...   \n",
       "445              Dante Exum        Utah Jazz      11       PG   20  06-Jun   \n",
       "447             Rudy Gobert        Utah Jazz      27        C   23  07-Jan   \n",
       "450              Joe Ingles        Utah Jazz       2       SF   28  06-Aug   \n",
       "454               Raul Neto        Utah Jazz      25       PG   24  06-Jan   \n",
       "455            Tibor Pleiss        Utah Jazz      21        C   26  07-Mar   \n",
       "\n",
       "     Weight College      Salary  \n",
       "4       231     NaN   5000000.0  \n",
       "5       240     NaN  12000000.0  \n",
       "15      216     NaN   3425510.0  \n",
       "20      208     NaN   1599840.0  \n",
       "32      205     NaN     30888.0  \n",
       "..      ...     ...         ...  \n",
       "445     190     NaN   3777720.0  \n",
       "447     245     NaN   1175880.0  \n",
       "450     226     NaN   2050000.0  \n",
       "454     179     NaN    900000.0  \n",
       "455     256     NaN   2900000.0  \n",
       "\n",
       "[84 rows x 9 columns]"
      ]
     },
     "execution_count": 14,
     "metadata": {},
     "output_type": "execute_result"
    }
   ],
   "source": [
    "df[df['College'].isnull()]  #getting the corresponding raws with nulll values"
   ]
  },
  {
   "cell_type": "code",
   "execution_count": 15,
   "id": "bdaf27b6-3b02-4410-b602-40f1217cfd30",
   "metadata": {},
   "outputs": [
    {
     "data": {
      "text/html": [
       "<div>\n",
       "<style scoped>\n",
       "    .dataframe tbody tr th:only-of-type {\n",
       "        vertical-align: middle;\n",
       "    }\n",
       "\n",
       "    .dataframe tbody tr th {\n",
       "        vertical-align: top;\n",
       "    }\n",
       "\n",
       "    .dataframe thead th {\n",
       "        text-align: right;\n",
       "    }\n",
       "</style>\n",
       "<table border=\"1\" class=\"dataframe\">\n",
       "  <thead>\n",
       "    <tr style=\"text-align: right;\">\n",
       "      <th></th>\n",
       "      <th>Name</th>\n",
       "      <th>Team</th>\n",
       "      <th>Number</th>\n",
       "      <th>Position</th>\n",
       "      <th>Age</th>\n",
       "      <th>Height</th>\n",
       "      <th>Weight</th>\n",
       "      <th>College</th>\n",
       "      <th>Salary</th>\n",
       "    </tr>\n",
       "  </thead>\n",
       "  <tbody>\n",
       "    <tr>\n",
       "      <th>2</th>\n",
       "      <td>John Holland</td>\n",
       "      <td>Boston Celtics</td>\n",
       "      <td>30</td>\n",
       "      <td>SG</td>\n",
       "      <td>27</td>\n",
       "      <td>06-May</td>\n",
       "      <td>205</td>\n",
       "      <td>Boston University</td>\n",
       "      <td>NaN</td>\n",
       "    </tr>\n",
       "    <tr>\n",
       "      <th>46</th>\n",
       "      <td>Elton Brand</td>\n",
       "      <td>Philadelphia 76ers</td>\n",
       "      <td>42</td>\n",
       "      <td>PF</td>\n",
       "      <td>37</td>\n",
       "      <td>06-Sep</td>\n",
       "      <td>254</td>\n",
       "      <td>Duke</td>\n",
       "      <td>NaN</td>\n",
       "    </tr>\n",
       "    <tr>\n",
       "      <th>171</th>\n",
       "      <td>Dahntay Jones</td>\n",
       "      <td>Cleveland Cavaliers</td>\n",
       "      <td>30</td>\n",
       "      <td>SG</td>\n",
       "      <td>35</td>\n",
       "      <td>06-Jun</td>\n",
       "      <td>225</td>\n",
       "      <td>Duke</td>\n",
       "      <td>NaN</td>\n",
       "    </tr>\n",
       "    <tr>\n",
       "      <th>264</th>\n",
       "      <td>Jordan Farmar</td>\n",
       "      <td>Memphis Grizzlies</td>\n",
       "      <td>4</td>\n",
       "      <td>PG</td>\n",
       "      <td>29</td>\n",
       "      <td>06-Feb</td>\n",
       "      <td>180</td>\n",
       "      <td>UCLA</td>\n",
       "      <td>NaN</td>\n",
       "    </tr>\n",
       "    <tr>\n",
       "      <th>269</th>\n",
       "      <td>Ray McCallum</td>\n",
       "      <td>Memphis Grizzlies</td>\n",
       "      <td>5</td>\n",
       "      <td>PG</td>\n",
       "      <td>24</td>\n",
       "      <td>06-Mar</td>\n",
       "      <td>190</td>\n",
       "      <td>Detroit</td>\n",
       "      <td>NaN</td>\n",
       "    </tr>\n",
       "    <tr>\n",
       "      <th>270</th>\n",
       "      <td>Xavier Munford</td>\n",
       "      <td>Memphis Grizzlies</td>\n",
       "      <td>14</td>\n",
       "      <td>PG</td>\n",
       "      <td>24</td>\n",
       "      <td>06-Mar</td>\n",
       "      <td>180</td>\n",
       "      <td>Rhode Island</td>\n",
       "      <td>NaN</td>\n",
       "    </tr>\n",
       "    <tr>\n",
       "      <th>273</th>\n",
       "      <td>Alex Stepheson</td>\n",
       "      <td>Memphis Grizzlies</td>\n",
       "      <td>35</td>\n",
       "      <td>PF</td>\n",
       "      <td>28</td>\n",
       "      <td>06-Oct</td>\n",
       "      <td>270</td>\n",
       "      <td>USC</td>\n",
       "      <td>NaN</td>\n",
       "    </tr>\n",
       "    <tr>\n",
       "      <th>350</th>\n",
       "      <td>Briante Weber</td>\n",
       "      <td>Miami Heat</td>\n",
       "      <td>12</td>\n",
       "      <td>PG</td>\n",
       "      <td>23</td>\n",
       "      <td>06-Feb</td>\n",
       "      <td>165</td>\n",
       "      <td>Virginia Commonwealth</td>\n",
       "      <td>NaN</td>\n",
       "    </tr>\n",
       "    <tr>\n",
       "      <th>353</th>\n",
       "      <td>Dorell Wright</td>\n",
       "      <td>Miami Heat</td>\n",
       "      <td>11</td>\n",
       "      <td>SF</td>\n",
       "      <td>30</td>\n",
       "      <td>06-Sep</td>\n",
       "      <td>205</td>\n",
       "      <td>NaN</td>\n",
       "      <td>NaN</td>\n",
       "    </tr>\n",
       "    <tr>\n",
       "      <th>397</th>\n",
       "      <td>Axel Toupane</td>\n",
       "      <td>Denver Nuggets</td>\n",
       "      <td>6</td>\n",
       "      <td>SG</td>\n",
       "      <td>23</td>\n",
       "      <td>06-Jul</td>\n",
       "      <td>210</td>\n",
       "      <td>NaN</td>\n",
       "      <td>NaN</td>\n",
       "    </tr>\n",
       "    <tr>\n",
       "      <th>409</th>\n",
       "      <td>Greg Smith</td>\n",
       "      <td>Minnesota Timberwolves</td>\n",
       "      <td>4</td>\n",
       "      <td>PF</td>\n",
       "      <td>25</td>\n",
       "      <td>06-Oct</td>\n",
       "      <td>250</td>\n",
       "      <td>Fresno State</td>\n",
       "      <td>NaN</td>\n",
       "    </tr>\n",
       "  </tbody>\n",
       "</table>\n",
       "</div>"
      ],
      "text/plain": [
       "               Name                    Team  Number Position  Age  Height  \\\n",
       "2      John Holland          Boston Celtics      30       SG   27  06-May   \n",
       "46      Elton Brand      Philadelphia 76ers      42       PF   37  06-Sep   \n",
       "171   Dahntay Jones     Cleveland Cavaliers      30       SG   35  06-Jun   \n",
       "264   Jordan Farmar       Memphis Grizzlies       4       PG   29  06-Feb   \n",
       "269    Ray McCallum       Memphis Grizzlies       5       PG   24  06-Mar   \n",
       "270  Xavier Munford       Memphis Grizzlies      14       PG   24  06-Mar   \n",
       "273  Alex Stepheson       Memphis Grizzlies      35       PF   28  06-Oct   \n",
       "350   Briante Weber              Miami Heat      12       PG   23  06-Feb   \n",
       "353   Dorell Wright              Miami Heat      11       SF   30  06-Sep   \n",
       "397    Axel Toupane          Denver Nuggets       6       SG   23  06-Jul   \n",
       "409      Greg Smith  Minnesota Timberwolves       4       PF   25  06-Oct   \n",
       "\n",
       "     Weight                College  Salary  \n",
       "2       205      Boston University     NaN  \n",
       "46      254                   Duke     NaN  \n",
       "171     225                   Duke     NaN  \n",
       "264     180                   UCLA     NaN  \n",
       "269     190                Detroit     NaN  \n",
       "270     180           Rhode Island     NaN  \n",
       "273     270                    USC     NaN  \n",
       "350     165  Virginia Commonwealth     NaN  \n",
       "353     205                    NaN     NaN  \n",
       "397     210                    NaN     NaN  \n",
       "409     250           Fresno State     NaN  "
      ]
     },
     "execution_count": 15,
     "metadata": {},
     "output_type": "execute_result"
    }
   ],
   "source": [
    "df[df['Salary'].isnull()]"
   ]
  },
  {
   "cell_type": "markdown",
   "id": "2955fa84-b490-4784-b99c-dd13d6117784",
   "metadata": {},
   "source": [
    "##### Filling NaN with '0' in both College and Salary columns Using .fillna()"
   ]
  },
  {
   "cell_type": "code",
   "execution_count": 16,
   "id": "87cf3a14-fe59-45f5-aa22-d947e437b132",
   "metadata": {},
   "outputs": [],
   "source": [
    "df.fillna(0,inplace=True)"
   ]
  },
  {
   "cell_type": "code",
   "execution_count": 17,
   "id": "36cd8d3c-8c2e-4de9-9cf2-00cca8a04528",
   "metadata": {},
   "outputs": [
    {
     "data": {
      "text/html": [
       "<div>\n",
       "<style scoped>\n",
       "    .dataframe tbody tr th:only-of-type {\n",
       "        vertical-align: middle;\n",
       "    }\n",
       "\n",
       "    .dataframe tbody tr th {\n",
       "        vertical-align: top;\n",
       "    }\n",
       "\n",
       "    .dataframe thead th {\n",
       "        text-align: right;\n",
       "    }\n",
       "</style>\n",
       "<table border=\"1\" class=\"dataframe\">\n",
       "  <thead>\n",
       "    <tr style=\"text-align: right;\">\n",
       "      <th></th>\n",
       "      <th>Name</th>\n",
       "      <th>Team</th>\n",
       "      <th>Number</th>\n",
       "      <th>Position</th>\n",
       "      <th>Age</th>\n",
       "      <th>Height</th>\n",
       "      <th>Weight</th>\n",
       "      <th>College</th>\n",
       "      <th>Salary</th>\n",
       "    </tr>\n",
       "  </thead>\n",
       "  <tbody>\n",
       "    <tr>\n",
       "      <th>0</th>\n",
       "      <td>Avery Bradley</td>\n",
       "      <td>Boston Celtics</td>\n",
       "      <td>0</td>\n",
       "      <td>PG</td>\n",
       "      <td>25</td>\n",
       "      <td>06-Feb</td>\n",
       "      <td>180</td>\n",
       "      <td>Texas</td>\n",
       "      <td>7730337.0</td>\n",
       "    </tr>\n",
       "    <tr>\n",
       "      <th>1</th>\n",
       "      <td>Jae Crowder</td>\n",
       "      <td>Boston Celtics</td>\n",
       "      <td>99</td>\n",
       "      <td>SF</td>\n",
       "      <td>25</td>\n",
       "      <td>06-Jun</td>\n",
       "      <td>235</td>\n",
       "      <td>Marquette</td>\n",
       "      <td>6796117.0</td>\n",
       "    </tr>\n",
       "    <tr>\n",
       "      <th>2</th>\n",
       "      <td>John Holland</td>\n",
       "      <td>Boston Celtics</td>\n",
       "      <td>30</td>\n",
       "      <td>SG</td>\n",
       "      <td>27</td>\n",
       "      <td>06-May</td>\n",
       "      <td>205</td>\n",
       "      <td>Boston University</td>\n",
       "      <td>0.0</td>\n",
       "    </tr>\n",
       "    <tr>\n",
       "      <th>3</th>\n",
       "      <td>R.J. Hunter</td>\n",
       "      <td>Boston Celtics</td>\n",
       "      <td>28</td>\n",
       "      <td>SG</td>\n",
       "      <td>22</td>\n",
       "      <td>06-May</td>\n",
       "      <td>185</td>\n",
       "      <td>Georgia State</td>\n",
       "      <td>1148640.0</td>\n",
       "    </tr>\n",
       "    <tr>\n",
       "      <th>4</th>\n",
       "      <td>Jonas Jerebko</td>\n",
       "      <td>Boston Celtics</td>\n",
       "      <td>8</td>\n",
       "      <td>PF</td>\n",
       "      <td>29</td>\n",
       "      <td>06-Oct</td>\n",
       "      <td>231</td>\n",
       "      <td>0</td>\n",
       "      <td>5000000.0</td>\n",
       "    </tr>\n",
       "    <tr>\n",
       "      <th>...</th>\n",
       "      <td>...</td>\n",
       "      <td>...</td>\n",
       "      <td>...</td>\n",
       "      <td>...</td>\n",
       "      <td>...</td>\n",
       "      <td>...</td>\n",
       "      <td>...</td>\n",
       "      <td>...</td>\n",
       "      <td>...</td>\n",
       "    </tr>\n",
       "    <tr>\n",
       "      <th>453</th>\n",
       "      <td>Shelvin Mack</td>\n",
       "      <td>Utah Jazz</td>\n",
       "      <td>8</td>\n",
       "      <td>PG</td>\n",
       "      <td>26</td>\n",
       "      <td>06-Mar</td>\n",
       "      <td>203</td>\n",
       "      <td>Butler</td>\n",
       "      <td>2433333.0</td>\n",
       "    </tr>\n",
       "    <tr>\n",
       "      <th>454</th>\n",
       "      <td>Raul Neto</td>\n",
       "      <td>Utah Jazz</td>\n",
       "      <td>25</td>\n",
       "      <td>PG</td>\n",
       "      <td>24</td>\n",
       "      <td>06-Jan</td>\n",
       "      <td>179</td>\n",
       "      <td>0</td>\n",
       "      <td>900000.0</td>\n",
       "    </tr>\n",
       "    <tr>\n",
       "      <th>455</th>\n",
       "      <td>Tibor Pleiss</td>\n",
       "      <td>Utah Jazz</td>\n",
       "      <td>21</td>\n",
       "      <td>C</td>\n",
       "      <td>26</td>\n",
       "      <td>07-Mar</td>\n",
       "      <td>256</td>\n",
       "      <td>0</td>\n",
       "      <td>2900000.0</td>\n",
       "    </tr>\n",
       "    <tr>\n",
       "      <th>456</th>\n",
       "      <td>Jeff Withey</td>\n",
       "      <td>Utah Jazz</td>\n",
       "      <td>24</td>\n",
       "      <td>C</td>\n",
       "      <td>26</td>\n",
       "      <td>7-0</td>\n",
       "      <td>231</td>\n",
       "      <td>Kansas</td>\n",
       "      <td>947276.0</td>\n",
       "    </tr>\n",
       "    <tr>\n",
       "      <th>457</th>\n",
       "      <td>Priyanka</td>\n",
       "      <td>Utah Jazz</td>\n",
       "      <td>34</td>\n",
       "      <td>C</td>\n",
       "      <td>25</td>\n",
       "      <td>07-Mar</td>\n",
       "      <td>231</td>\n",
       "      <td>Kansas</td>\n",
       "      <td>947276.0</td>\n",
       "    </tr>\n",
       "  </tbody>\n",
       "</table>\n",
       "<p>458 rows × 9 columns</p>\n",
       "</div>"
      ],
      "text/plain": [
       "              Name            Team  Number Position  Age  Height  Weight  \\\n",
       "0    Avery Bradley  Boston Celtics       0       PG   25  06-Feb     180   \n",
       "1      Jae Crowder  Boston Celtics      99       SF   25  06-Jun     235   \n",
       "2     John Holland  Boston Celtics      30       SG   27  06-May     205   \n",
       "3      R.J. Hunter  Boston Celtics      28       SG   22  06-May     185   \n",
       "4    Jonas Jerebko  Boston Celtics       8       PF   29  06-Oct     231   \n",
       "..             ...             ...     ...      ...  ...     ...     ...   \n",
       "453   Shelvin Mack       Utah Jazz       8       PG   26  06-Mar     203   \n",
       "454      Raul Neto       Utah Jazz      25       PG   24  06-Jan     179   \n",
       "455   Tibor Pleiss       Utah Jazz      21        C   26  07-Mar     256   \n",
       "456    Jeff Withey       Utah Jazz      24        C   26     7-0     231   \n",
       "457       Priyanka       Utah Jazz      34        C   25  07-Mar     231   \n",
       "\n",
       "               College     Salary  \n",
       "0                Texas  7730337.0  \n",
       "1            Marquette  6796117.0  \n",
       "2    Boston University        0.0  \n",
       "3        Georgia State  1148640.0  \n",
       "4                    0  5000000.0  \n",
       "..                 ...        ...  \n",
       "453             Butler  2433333.0  \n",
       "454                  0   900000.0  \n",
       "455                  0  2900000.0  \n",
       "456             Kansas   947276.0  \n",
       "457             Kansas   947276.0  \n",
       "\n",
       "[458 rows x 9 columns]"
      ]
     },
     "execution_count": 17,
     "metadata": {},
     "output_type": "execute_result"
    }
   ],
   "source": [
    "df"
   ]
  },
  {
   "cell_type": "markdown",
   "id": "d8f694e2-81bd-4786-8651-16e82cb2dcd8",
   "metadata": {},
   "source": [
    "##### Checking whether there is any null value now."
   ]
  },
  {
   "cell_type": "code",
   "execution_count": 18,
   "id": "92893d67-2194-4aaa-a807-042a5d2adf3c",
   "metadata": {},
   "outputs": [
    {
     "data": {
      "text/plain": [
       "0"
      ]
     },
     "execution_count": 18,
     "metadata": {},
     "output_type": "execute_result"
    }
   ],
   "source": [
    "df['College'].isnull().sum()"
   ]
  },
  {
   "cell_type": "code",
   "execution_count": 19,
   "id": "c235c7d3-ee43-44f7-9d7b-87f7c1506a91",
   "metadata": {},
   "outputs": [
    {
     "data": {
      "text/plain": [
       "0"
      ]
     },
     "execution_count": 19,
     "metadata": {},
     "output_type": "execute_result"
    }
   ],
   "source": [
    "df['Salary'].isnull().sum()"
   ]
  },
  {
   "cell_type": "markdown",
   "id": "66ed6539-34a0-4798-92f3-5e36bbcd3b1f",
   "metadata": {},
   "source": [
    "#### Checking the column corresponding to \"Height' for any incorrect or mismatching entry "
   ]
  },
  {
   "cell_type": "code",
   "execution_count": 20,
   "id": "5a1d755d-dffa-4429-90e5-5e6f96041599",
   "metadata": {},
   "outputs": [
    {
     "data": {
      "text/plain": [
       "0      06-Feb\n",
       "1      06-Jun\n",
       "2      06-May\n",
       "3      06-May\n",
       "4      06-Oct\n",
       "        ...  \n",
       "453    06-Mar\n",
       "454    06-Jan\n",
       "455    07-Mar\n",
       "456       7-0\n",
       "457    07-Mar\n",
       "Name: Height, Length: 458, dtype: object"
      ]
     },
     "execution_count": 20,
     "metadata": {},
     "output_type": "execute_result"
    }
   ],
   "source": [
    "#column height\n",
    "df['Height']"
   ]
  },
  {
   "cell_type": "code",
   "execution_count": 21,
   "id": "3025991c-578d-4322-b603-659712625502",
   "metadata": {},
   "outputs": [
    {
     "data": {
      "text/plain": [
       "pandas.core.series.Series"
      ]
     },
     "execution_count": 21,
     "metadata": {},
     "output_type": "execute_result"
    }
   ],
   "source": [
    "#checking the incorrect data\n",
    "type(df['Height'])"
   ]
  },
  {
   "cell_type": "code",
   "execution_count": 22,
   "id": "1efd24e1-90ca-4a97-b1d6-765067a093bd",
   "metadata": {},
   "outputs": [
    {
     "data": {
      "text/plain": [
       "18"
      ]
     },
     "execution_count": 22,
     "metadata": {},
     "output_type": "execute_result"
    }
   ],
   "source": [
    "df['Height'].nunique()"
   ]
  },
  {
   "cell_type": "code",
   "execution_count": 23,
   "id": "036e187d-0ebd-4952-a265-b83d3a34b7c7",
   "metadata": {},
   "outputs": [
    {
     "data": {
      "text/plain": [
       "Height\n",
       "06-Sep    59\n",
       "06-Oct    47\n",
       "06-Jul    45\n",
       "06-Aug    43\n",
       "06-Jun    42\n",
       "06-Nov    40\n",
       "06-Mar    33\n",
       "06-May    32\n",
       "06-Apr    29\n",
       "7-0       27\n",
       "06-Jan    16\n",
       "06-Feb    16\n",
       "6-0       10\n",
       "07-Jan     7\n",
       "07-Mar     5\n",
       "05-Nov     3\n",
       "07-Feb     3\n",
       "05-Sep     1\n",
       "Name: count, dtype: int64"
      ]
     },
     "execution_count": 23,
     "metadata": {},
     "output_type": "execute_result"
    }
   ],
   "source": [
    "df['Height'].value_counts()"
   ]
  },
  {
   "cell_type": "code",
   "execution_count": 24,
   "id": "6671ae70-71a3-44d4-a0b1-f0f9a4a54f59",
   "metadata": {},
   "outputs": [
    {
     "data": {
      "text/plain": [
       "count        458\n",
       "unique        18\n",
       "top       06-Sep\n",
       "freq          59\n",
       "Name: Height, dtype: object"
      ]
     },
     "execution_count": 24,
     "metadata": {},
     "output_type": "execute_result"
    }
   ],
   "source": [
    "df['Height'].describe()"
   ]
  },
  {
   "cell_type": "markdown",
   "id": "10636627-ec11-4849-a336-d94751eb184c",
   "metadata": {},
   "source": [
    "##### It looks like the data in the \"Height\" column contains a mix of numerical values and non-numeric values, and the format is not consistent (some\n",
    "\n",
    "##### values are in the format MM-Abb where MM is the month and Abb is an abbreviation, while others are in the format N-N where N is a number). Here are \n",
    "\n",
    "##### some steps to handle this kind of data:"
   ]
  },
  {
   "cell_type": "code",
   "execution_count": 25,
   "id": "a397b5c0-5ec3-4aee-9540-81e83870fe9b",
   "metadata": {},
   "outputs": [],
   "source": [
    "df['Height'] = pd.to_numeric(df['Height'], errors='coerce')"
   ]
  },
  {
   "cell_type": "code",
   "execution_count": 26,
   "id": "4d0825bc-4dd3-459c-bd40-5eee93d85f7d",
   "metadata": {},
   "outputs": [],
   "source": [
    "random_numbers = np.random.randint(150, 180, size=len(df))\n",
    "df['Height'].fillna(pd.Series(random_numbers), inplace=True)"
   ]
  },
  {
   "cell_type": "code",
   "execution_count": 27,
   "id": "d371883d-de6f-4086-bd9a-1965231a8075",
   "metadata": {},
   "outputs": [
    {
     "data": {
      "text/plain": [
       "0      155.0\n",
       "1      154.0\n",
       "2      150.0\n",
       "3      171.0\n",
       "4      179.0\n",
       "       ...  \n",
       "453    150.0\n",
       "454    162.0\n",
       "455    172.0\n",
       "456    169.0\n",
       "457    158.0\n",
       "Name: Height, Length: 458, dtype: float64"
      ]
     },
     "execution_count": 27,
     "metadata": {},
     "output_type": "execute_result"
    }
   ],
   "source": [
    "df['Height']"
   ]
  },
  {
   "cell_type": "markdown",
   "id": "117e58c9-4d24-4ecc-89db-52da522926ea",
   "metadata": {},
   "source": [
    "### <font color='289C4E'>Table of contents<font><a class='anchor' id='top'></a>\n",
    "- [How many are there in each Team and the percentage splitting with respect to the total employees.](#1)\n",
    "- [Segregate the employees w.r.t different positions](#2)\n",
    "- [Find from which age group most of the employees belong to.](#3)\n",
    "- [Find out under which team and position, spending in terms of salary is high.](#4)\n",
    "- [Find if there is any correlation between age and salary , represent it visually.](#5)"
   ]
  },
  {
   "cell_type": "markdown",
   "id": "e7df4437-8fa9-47e7-aa5e-b58f264deea2",
   "metadata": {},
   "source": [
    "<h3 align=\"center\"> <font color='blue'>1.How many are there in each Team and the percentage splitting with respect to the total employees.</font></h3>"
   ]
  },
  {
   "cell_type": "code",
   "execution_count": 28,
   "id": "854fcb87-0651-4908-a75e-b0fe0eeb63dc",
   "metadata": {},
   "outputs": [
    {
     "name": "stdout",
     "output_type": "stream",
     "text": [
      "Team\n",
      "New Orleans Pelicans      19\n",
      "Memphis Grizzlies         18\n",
      "Utah Jazz                 16\n",
      "New York Knicks           16\n",
      "Milwaukee Bucks           16\n",
      "Brooklyn Nets             15\n",
      "Portland Trail Blazers    15\n",
      "Oklahoma City Thunder     15\n",
      "Denver Nuggets            15\n",
      "Washington Wizards        15\n",
      "Miami Heat                15\n",
      "Charlotte Hornets         15\n",
      "Atlanta Hawks             15\n",
      "San Antonio Spurs         15\n",
      "Houston Rockets           15\n",
      "Boston Celtics            15\n",
      "Indiana Pacers            15\n",
      "Detroit Pistons           15\n",
      "Cleveland Cavaliers       15\n",
      "Chicago Bulls             15\n",
      "Sacramento Kings          15\n",
      "Phoenix Suns              15\n",
      "Los Angeles Lakers        15\n",
      "Los Angeles Clippers      15\n",
      "Golden State Warriors     15\n",
      "Toronto Raptors           15\n",
      "Philadelphia 76ers        15\n",
      "Dallas Mavericks          15\n",
      "Orlando Magic             14\n",
      "Minnesota Timberwolves    14\n",
      "Name: count, dtype: int64\n"
     ]
    }
   ],
   "source": [
    "team_counts=df['Team'].value_counts()\n",
    "print(team_counts)"
   ]
  },
  {
   "cell_type": "code",
   "execution_count": 29,
   "id": "0104ddc4-7a94-4a7b-a622-746e5dcfea22",
   "metadata": {},
   "outputs": [
    {
     "data": {
      "text/plain": [
       "458"
      ]
     },
     "execution_count": 29,
     "metadata": {},
     "output_type": "execute_result"
    }
   ],
   "source": [
    "#total employees\n",
    "total_employees = len(df)\n",
    "total_employees"
   ]
  },
  {
   "cell_type": "code",
   "execution_count": 30,
   "id": "58e6fb1d-941f-4c60-9b62-5998f63ffbd1",
   "metadata": {},
   "outputs": [
    {
     "data": {
      "text/plain": [
       "Team\n",
       "New Orleans Pelicans      4.148472\n",
       "Memphis Grizzlies         3.930131\n",
       "Utah Jazz                 3.493450\n",
       "New York Knicks           3.493450\n",
       "Milwaukee Bucks           3.493450\n",
       "Brooklyn Nets             3.275109\n",
       "Portland Trail Blazers    3.275109\n",
       "Oklahoma City Thunder     3.275109\n",
       "Denver Nuggets            3.275109\n",
       "Washington Wizards        3.275109\n",
       "Miami Heat                3.275109\n",
       "Charlotte Hornets         3.275109\n",
       "Atlanta Hawks             3.275109\n",
       "San Antonio Spurs         3.275109\n",
       "Houston Rockets           3.275109\n",
       "Boston Celtics            3.275109\n",
       "Indiana Pacers            3.275109\n",
       "Detroit Pistons           3.275109\n",
       "Cleveland Cavaliers       3.275109\n",
       "Chicago Bulls             3.275109\n",
       "Sacramento Kings          3.275109\n",
       "Phoenix Suns              3.275109\n",
       "Los Angeles Lakers        3.275109\n",
       "Los Angeles Clippers      3.275109\n",
       "Golden State Warriors     3.275109\n",
       "Toronto Raptors           3.275109\n",
       "Philadelphia 76ers        3.275109\n",
       "Dallas Mavericks          3.275109\n",
       "Orlando Magic             3.056769\n",
       "Minnesota Timberwolves    3.056769\n",
       "Name: count, dtype: float64"
      ]
     },
     "execution_count": 30,
     "metadata": {},
     "output_type": "execute_result"
    }
   ],
   "source": [
    "#percentage_splitting\n",
    "percentage_splitting = (team_counts/total_employees)*100\n",
    "percentage_splitting"
   ]
  },
  {
   "cell_type": "code",
   "execution_count": 51,
   "id": "722245ea-1ebb-478e-b667-b88de49f0591",
   "metadata": {},
   "outputs": [
    {
     "data": {
      "image/png": "[encoded data removed]",
      "text/plain": [
       "<Figure size 640x480 with 1 Axes>"
      ]
     },
     "metadata": {},
     "output_type": "display_data"
    }
   ],
   "source": [
    "#visualize the data\n",
    "plt.bar(team_counts.index,team_counts.values,color='blue',width=0.5)\n",
    "# Customize the plot\n",
    "plt.xlabel('Team')\n",
    "plt.ylabel('Percentage')\n",
    "plt.title('Percentage Splitting of Employees w.r.t each Team')\n",
    "plt.xticks(rotation='vertical')\n",
    "plt.show()"
   ]
  },
  {
   "cell_type": "markdown",
   "id": "2fab91ad-c9e1-40e5-af8f-c9f4372f7620",
   "metadata": {},
   "source": [
    "By analysing the above bar graph , it is clear that the team \"New Orleans Pelicans\" has more percentage split compared with other teams , Also there some identical pattern for some teams starting from \"Brooklyn Nets\" to \"Dallas Mavericks\"."
   ]
  },
  {
   "cell_type": "markdown",
   "id": "1b8c7615-7fdd-4de4-a971-554aa6ed0b9d",
   "metadata": {},
   "source": [
    "<h3 align=\"center\"> <font color='blue'>2.Segregate the employees w.r.t different positions.</font></h3>"
   ]
  },
  {
   "cell_type": "code",
   "execution_count": 55,
   "id": "f594c73c-2057-4832-bd9d-b0e1a26dc9fe",
   "metadata": {},
   "outputs": [
    {
     "data": {
      "text/plain": [
       "Position\n",
       "SG    102\n",
       "PF    100\n",
       "PG     92\n",
       "SF     85\n",
       "C      79\n",
       "Name: count, dtype: int64"
      ]
     },
     "execution_count": 55,
     "metadata": {},
     "output_type": "execute_result"
    }
   ],
   "source": [
    "position=df['Position'].value_counts()\n",
    "position"
   ]
  },
  {
   "cell_type": "code",
   "execution_count": 53,
   "id": "f798e8c2-7ebf-43f2-ad34-a40176877562",
   "metadata": {},
   "outputs": [
    {
     "data": {
      "text/plain": [
       "<pandas.core.groupby.generic.DataFrameGroupBy object at 0x000002594B008D50>"
      ]
     },
     "execution_count": 53,
     "metadata": {},
     "output_type": "execute_result"
    }
   ],
   "source": [
    "grouped_by_position = df.groupby('Position')\n",
    "grouped_by_position"
   ]
  },
  {
   "cell_type": "code",
   "execution_count": 54,
   "id": "f53766b1-7f89-4951-8485-8d6698bc0460",
   "metadata": {},
   "outputs": [
    {
     "name": "stdout",
     "output_type": "stream",
     "text": [
      "  Position                                               Name\n",
      "0        C  [Kelly Olynyk, Jared Sullinger, Tyler Zeller, ...\n",
      "1       PF  [Jonas Jerebko, Amir Johnson, Jordan Mickey, C...\n",
      "2       PG  [Avery Bradley, Terry Rozier, Marcus Smart, Is...\n",
      "3       SF  [Jae Crowder, Thanasis Antetokounmpo, Carmelo ...\n",
      "4       SG  [John Holland, R.J. Hunter, Evan Turner, James...\n"
     ]
    }
   ],
   "source": [
    "#'df' is your DataFrame and 'Position' is the column containing position information\n",
    "grouped_by_position = df.groupby('Position')['Name'].apply(list).reset_index() #if .reset_index is not given column with name comes without any column name\n",
    "\n",
    "# Display the tabular form\n",
    "print(grouped_by_position)"
   ]
  },
  {
   "cell_type": "code",
   "execution_count": null,
   "id": "545e3e1d-f61b-4624-9faf-bf8738d74550",
   "metadata": {},
   "outputs": [],
   "source": [
    "print(grouped_by_position.to_string(index=False))"
   ]
  },
  {
   "cell_type": "code",
   "execution_count": 64,
   "id": "ec4f96a7-e966-470d-ad59-6a5b06c5d5d1",
   "metadata": {},
   "outputs": [
    {
     "data": {
      "image/png": "[encoded data removed]",
      "text/plain": [
       "<Figure size 640x480 with 1 Axes>"
      ]
     },
     "metadata": {},
     "output_type": "display_data"
    }
   ],
   "source": [
    "#Visual Representation in the bar chart\n",
    "plt.bar(position.index,position.values,color='red',width=0.5)\n",
    "# Customize the plot\n",
    "plt.xlabel('Position')\n",
    "plt.ylabel('Number of Employees')\n",
    "plt.title('Employees based on different position')\n",
    "plt.xticks(rotation=0)\n",
    "plt.show()"
   ]
  },
  {
   "cell_type": "markdown",
   "id": "20c059ab-2a9d-47d1-90f1-68c6262cbf3c",
   "metadata": {},
   "source": [
    "From the above data, we can say that position 'SG' contains 100 employees which is highest number among others , and 'C' position contains the least number of employees"
   ]
  },
  {
   "cell_type": "markdown",
   "id": "e1604c91-9709-4aa2-a1bd-c7eb92c12ba6",
   "metadata": {},
   "source": [
    "<h3 align=\"center\"> <font color='blue'>3.Find from which age group most of the employees belong to.</font></h3>"
   ]
  },
  {
   "cell_type": "code",
   "execution_count": 69,
   "id": "9f3095d7-967f-45a7-b54e-c9c36d555123",
   "metadata": {},
   "outputs": [
    {
     "data": {
      "text/plain": [
       "Age\n",
       "24    47\n",
       "25    46\n",
       "27    41\n",
       "23    41\n",
       "26    36\n",
       "28    31\n",
       "30    31\n",
       "29    28\n",
       "22    26\n",
       "31    22\n",
       "20    19\n",
       "21    19\n",
       "33    14\n",
       "32    13\n",
       "34    10\n",
       "36    10\n",
       "35     9\n",
       "37     4\n",
       "38     4\n",
       "40     3\n",
       "39     2\n",
       "19     2\n",
       "Name: count, dtype: int64"
      ]
     },
     "execution_count": 69,
     "metadata": {},
     "output_type": "execute_result"
    }
   ],
   "source": [
    "age = df['Age'].value_counts()\n",
    "age"
   ]
  },
  {
   "cell_type": "code",
   "execution_count": 67,
   "id": "91502ca5-a59f-440e-a76c-d217f8291684",
   "metadata": {},
   "outputs": [
    {
     "data": {
      "text/plain": [
       "24"
      ]
     },
     "execution_count": 67,
     "metadata": {},
     "output_type": "execute_result"
    }
   ],
   "source": [
    "df['Age'].value_counts().idxmax()"
   ]
  },
  {
   "cell_type": "code",
   "execution_count": 68,
   "id": "36c598ec-bbde-4188-ab53-2564f6adb89e",
   "metadata": {},
   "outputs": [
    {
     "data": {
      "text/plain": [
       "Age\n",
       "20-30    346\n",
       "30-40     91\n",
       "10-20     21\n",
       "Name: count, dtype: int64"
      ]
     },
     "execution_count": 68,
     "metadata": {},
     "output_type": "execute_result"
    }
   ],
   "source": [
    "# Most Common Age group\n",
    "(pd.cut(df['Age'],bins=[10,20,30,40],labels=['10-20','20-30','30-40'])).value_counts()"
   ]
  },
  {
   "cell_type": "code",
   "execution_count": 66,
   "id": "8e10fed1-51fd-443c-a153-e5f27359b47a",
   "metadata": {},
   "outputs": [
    {
     "data": {
      "image/png": "[encoded data removed]",
      "text/plain": [
       "<Figure size 1200x600 with 1 Axes>"
      ]
     },
     "metadata": {},
     "output_type": "display_data"
    }
   ],
   "source": [
    "#Visual representation using histogram\n",
    "plt.figure(figsize=(12,6))\n",
    "plt.hist(df['Age'],edgecolor='yellow')\n",
    "plt.xlabel('Age')\n",
    "plt.ylabel('Frequency')\n",
    "plt.title('Age Distribution of Employees')\n",
    "plt.show()"
   ]
  },
  {
   "cell_type": "markdown",
   "id": "cdb8f903-fd32-479e-a2b8-87de4e356eea",
   "metadata": {},
   "source": [
    "From the above histogram plot we can come at a point that, most of the employees are in the age group 20-30, and there is notebly a less number of employees in the  age group of 40. Also there are number of employees of age 10-20 which is between both 20-30 and age 40 groups."
   ]
  },
  {
   "cell_type": "markdown",
   "id": "23b19572-1b67-44a7-96c5-8262e062024d",
   "metadata": {},
   "source": [
    "<h3 align=\"center\"> <font color='blue'>4.Find out under which team and position, spending in terms of salary is high.</font></h3>"
   ]
  },
  {
   "cell_type": "code",
   "execution_count": 70,
   "id": "cfa6d313-ac8a-496f-9994-221892ed7f29",
   "metadata": {},
   "outputs": [
    {
     "data": {
      "text/plain": [
       "0      7730337.0\n",
       "1      6796117.0\n",
       "2            0.0\n",
       "3      1148640.0\n",
       "4      5000000.0\n",
       "         ...    \n",
       "453    2433333.0\n",
       "454     900000.0\n",
       "455    2900000.0\n",
       "456     947276.0\n",
       "457     947276.0\n",
       "Name: Salary, Length: 458, dtype: float64"
      ]
     },
     "execution_count": 70,
     "metadata": {},
     "output_type": "execute_result"
    }
   ],
   "source": [
    "df['Salary']"
   ]
  },
  {
   "cell_type": "code",
   "execution_count": 71,
   "id": "ade3f98b-c28f-4e61-9a08-cbe5e39e9878",
   "metadata": {},
   "outputs": [
    {
     "data": {
      "text/html": [
       "<div>\n",
       "<style scoped>\n",
       "    .dataframe tbody tr th:only-of-type {\n",
       "        vertical-align: middle;\n",
       "    }\n",
       "\n",
       "    .dataframe tbody tr th {\n",
       "        vertical-align: top;\n",
       "    }\n",
       "\n",
       "    .dataframe thead th {\n",
       "        text-align: right;\n",
       "    }\n",
       "</style>\n",
       "<table border=\"1\" class=\"dataframe\">\n",
       "  <thead>\n",
       "    <tr style=\"text-align: right;\">\n",
       "      <th></th>\n",
       "      <th>Team</th>\n",
       "      <th>Position</th>\n",
       "      <th>Salary</th>\n",
       "    </tr>\n",
       "  </thead>\n",
       "  <tbody>\n",
       "    <tr>\n",
       "      <th>0</th>\n",
       "      <td>Atlanta Hawks</td>\n",
       "      <td>C</td>\n",
       "      <td>22756250.0</td>\n",
       "    </tr>\n",
       "    <tr>\n",
       "      <th>1</th>\n",
       "      <td>Atlanta Hawks</td>\n",
       "      <td>PF</td>\n",
       "      <td>23952268.0</td>\n",
       "    </tr>\n",
       "    <tr>\n",
       "      <th>2</th>\n",
       "      <td>Atlanta Hawks</td>\n",
       "      <td>PG</td>\n",
       "      <td>9763400.0</td>\n",
       "    </tr>\n",
       "    <tr>\n",
       "      <th>3</th>\n",
       "      <td>Atlanta Hawks</td>\n",
       "      <td>SF</td>\n",
       "      <td>6000000.0</td>\n",
       "    </tr>\n",
       "    <tr>\n",
       "      <th>4</th>\n",
       "      <td>Atlanta Hawks</td>\n",
       "      <td>SG</td>\n",
       "      <td>10431032.0</td>\n",
       "    </tr>\n",
       "    <tr>\n",
       "      <th>...</th>\n",
       "      <td>...</td>\n",
       "      <td>...</td>\n",
       "      <td>...</td>\n",
       "    </tr>\n",
       "    <tr>\n",
       "      <th>144</th>\n",
       "      <td>Washington Wizards</td>\n",
       "      <td>C</td>\n",
       "      <td>24490429.0</td>\n",
       "    </tr>\n",
       "    <tr>\n",
       "      <th>145</th>\n",
       "      <td>Washington Wizards</td>\n",
       "      <td>PF</td>\n",
       "      <td>11300000.0</td>\n",
       "    </tr>\n",
       "    <tr>\n",
       "      <th>146</th>\n",
       "      <td>Washington Wizards</td>\n",
       "      <td>PG</td>\n",
       "      <td>18022415.0</td>\n",
       "    </tr>\n",
       "    <tr>\n",
       "      <th>147</th>\n",
       "      <td>Washington Wizards</td>\n",
       "      <td>SF</td>\n",
       "      <td>11158800.0</td>\n",
       "    </tr>\n",
       "    <tr>\n",
       "      <th>148</th>\n",
       "      <td>Washington Wizards</td>\n",
       "      <td>SG</td>\n",
       "      <td>11356992.0</td>\n",
       "    </tr>\n",
       "  </tbody>\n",
       "</table>\n",
       "<p>149 rows × 3 columns</p>\n",
       "</div>"
      ],
      "text/plain": [
       "                   Team Position      Salary\n",
       "0         Atlanta Hawks        C  22756250.0\n",
       "1         Atlanta Hawks       PF  23952268.0\n",
       "2         Atlanta Hawks       PG   9763400.0\n",
       "3         Atlanta Hawks       SF   6000000.0\n",
       "4         Atlanta Hawks       SG  10431032.0\n",
       "..                  ...      ...         ...\n",
       "144  Washington Wizards        C  24490429.0\n",
       "145  Washington Wizards       PF  11300000.0\n",
       "146  Washington Wizards       PG  18022415.0\n",
       "147  Washington Wizards       SF  11158800.0\n",
       "148  Washington Wizards       SG  11356992.0\n",
       "\n",
       "[149 rows x 3 columns]"
      ]
     },
     "execution_count": 71,
     "metadata": {},
     "output_type": "execute_result"
    }
   ],
   "source": [
    "grouped_by_team_position = df.groupby(['Team', 'Position'])['Salary'].sum().reset_index()\n",
    "grouped_by_team_position"
   ]
  },
  {
   "cell_type": "code",
   "execution_count": 72,
   "id": "3dbbc494-0b0f-4815-9baa-e6fd620b3c50",
   "metadata": {},
   "outputs": [
    {
     "data": {
      "text/plain": [
       "Team        Los Angeles Lakers\n",
       "Position                    SF\n",
       "Salary              31866445.0\n",
       "Name: 67, dtype: object"
      ]
     },
     "execution_count": 72,
     "metadata": {},
     "output_type": "execute_result"
    }
   ],
   "source": [
    "max_salary_row = grouped_by_team_position.loc[grouped_by_team_position['Salary'].idxmax()]\n",
    "max_salary_row"
   ]
  },
  {
   "cell_type": "code",
   "execution_count": 80,
   "id": "9af70a79-1eaf-47e5-b800-728e7af3bef8",
   "metadata": {},
   "outputs": [
    {
     "data": {
      "image/png": "[encoded data removed]",
      "text/plain": [
       "<Figure size 640x480 with 1 Axes>"
      ]
     },
     "metadata": {},
     "output_type": "display_data"
    }
   ],
   "source": [
    "#visual representation using box plot\n",
    "sns.boxplot(x='Team',y='Salary',data=df,color='m')\n",
    "\n",
    "#customize by adding labels and titles\n",
    "plt.title('Salary Distribution by Team',color='g',font='Times New Roman',size=25)\n",
    "plt.xlabel('Team')\n",
    "plt.ylabel('Salary')\n",
    "plt.xticks(rotation=90)\n",
    "\n",
    "plt.show()"
   ]
  },
  {
   "cell_type": "markdown",
   "id": "ecbf60ef-7eac-4299-bf08-3514f5f46756",
   "metadata": {},
   "source": [
    "By plotting boxplot , The team 'Los Angels Lakers are spending more in terms of salary."
   ]
  },
  {
   "cell_type": "markdown",
   "id": "758ac6ff-1333-48ae-af83-9380d9b10757",
   "metadata": {},
   "source": [
    "<h3 align=\"center\"> <font color='blue'>5.Find if there is any correlation between age and salary , represent it visually.</font></h3>"
   ]
  },
  {
   "cell_type": "code",
   "execution_count": null,
   "id": "b77998a3-917a-430b-8ccb-56a2988aa568",
   "metadata": {},
   "outputs": [],
   "source": [
    "correlation_age_salary = df['Age'].corr(df['Salary'])\n",
    "correlation_age_salary"
   ]
  },
  {
   "cell_type": "code",
   "execution_count": 75,
   "id": "4a3a4f9c-7dc0-4afd-805f-7ee222031598",
   "metadata": {},
   "outputs": [
    {
     "data": {
      "image/png": "[encoded data removed]",
      "text/plain": [
       "<Figure size 640x480 with 1 Axes>"
      ]
     },
     "metadata": {},
     "output_type": "display_data"
    }
   ],
   "source": [
    "plt.scatter(df['Age'], df['Salary'],color='m',marker='*')\n",
    "plt.title('Scatter Plot of Age vs. Salary',fontdict={'fontname':'Serif','fontsize':20,'color':'c'})\n",
    "plt.xlabel('Age',color='g')\n",
    "plt.ylabel('Salary',color='g')\n",
    "plt.show()"
   ]
  },
  {
   "cell_type": "markdown",
   "id": "0df7382b-df90-4ef9-88a9-49ac9c297905",
   "metadata": {},
   "source": [
    "As age of the employees increase , their salary is also increasing"
   ]
  },
  {
   "cell_type": "markdown",
   "id": "21f801f5-3ab3-409e-8bb1-83a7dcfbf932",
   "metadata": {},
   "source": [
    "After analysing the above data , we can come under following conclusion:\n",
    "\n",
    "1. 'New Orleans Pelicans' has the highest number of employees in the Team is  with respect to the other team.\n",
    "2. The most number of employees are belongs to 'SG' Position, and least number of employees belongs to 'C' Position.\n",
    "3. Most employees are belongs to the age group of 20 - 30 years, Least in 10-20.\n",
    "4. The team 'Los Angels Lakers'and 'SF' Position  are spending more in terms of salary.Clearly shown in max_salary_row we have calculated\n",
    "5. The employees in the age group of 30-40 years have the highest salary,  as the age increase the salary also increasing"
   ]
  },
  {
   "cell_type": "code",
   "execution_count": null,
   "id": "660ef935-0d57-45ef-9eea-059a557078b3",
   "metadata": {},
   "outputs": [],
   "source": []
  }
 ],
 "metadata": {
  "kernelspec": {
   "display_name": "Python 3 (ipykernel)",
   "language": "python",
   "name": "python3"
  },
  "language_info": {
   "codemirror_mode": {
    "name": "ipython",
    "version": 3
   },
   "file_extension": ".py",
   "mimetype": "text/x-python",
   "name": "python",
   "nbconvert_exporter": "python",
   "pygments_lexer": "ipython3",
   "version": "3.11.4"
  }
 },
 "nbformat": 4,
 "nbformat_minor": 5
}
